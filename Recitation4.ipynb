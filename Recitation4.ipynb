{
  "nbformat": 4,
  "nbformat_minor": 0,
  "metadata": {
    "colab": {
      "provenance": [],
      "include_colab_link": true
    },
    "kernelspec": {
      "name": "python3",
      "display_name": "Python 3"
    },
    "language_info": {
      "name": "python"
    }
  },
  "cells": [
    {
      "cell_type": "markdown",
      "metadata": {
        "id": "view-in-github",
        "colab_type": "text"
      },
      "source": [
        "<a href=\"https://colab.research.google.com/github/kmensah2224/kmensah2224.github.io/blob/main/Recitation4.ipynb\" target=\"_parent\"><img src=\"https://colab.research.google.com/assets/colab-badge.svg\" alt=\"Open In Colab\"/></a>"
      ]
    },
    {
      "cell_type": "markdown",
      "source": [
        "# 1. Which data visualization chart type would be best for representing the data from your self-experiment? Why?\n"
      ],
      "metadata": {
        "id": "lsdnwzONA9R-"
      }
    },
    {
      "cell_type": "markdown",
      "source": [],
      "metadata": {
        "id": "u75MxAyz4ESZ"
      }
    },
    {
      "cell_type": "markdown",
      "source": [
        "# 2. Creating a Scatter Plot in Excel Sheets\n",
        "\n",
        "Visit [**this link**](https://docs.google.com/spreadsheets/u/0/?tgif=d), then select \"Start a new spreadsheet.\"\n",
        "\n",
        "Go to **File > Open** and enter the following URL in the search box at the top of the page: https://docs.google.com/spreadsheets/d/1jBPWNUJGNcU9GFntpOkNfBQImTZLmmZq4iB9XwSP96s/edit?usp=sharing\n",
        "\n",
        "**Make a copy** of the dataset that you can edit by choosing **File > Make a copy.**"
      ],
      "metadata": {
        "id": "zoDUooZ7A9U1"
      }
    },
    {
      "cell_type": "markdown",
      "source": [
        "## This exercise aims to help us think about data visualization best practices. In many cases, less is more.\n",
        "\n",
        "Our task is to replicate the scatter plot in the spreadsheet, and add a trendline to indicate how the two variables — the **number of steps** taken and the number of **minutes of sleep** — relate to each another.\n",
        "\n",
        "**Steps:**\n",
        "- Select the two variable columns\n",
        "- From the \"**Insert**\" tab select \"**Chart**\". A scatter plot will be generated automatically.\n",
        "- You may need to reverse the X and Y axis to replicate the original chart. To do this, double-click your chart and from the **Chart Editor** on the right, select **Minutes of Sleep** in the drop-down menu under **X-axis** and **Number of Steps** under **Series**. This will adjust the data in your chart but not the axis labels - you may need to adjust those manually.\n",
        "- Finally, to add a trendline, double-click the chart and select \"**Customize**\" from the **Chart Editor** on the right. Next, click **Series,** scroll down, and check the box next to **Trendline**."
      ],
      "metadata": {
        "id": "qFpAv9RYSiOO"
      }
    },
    {
      "cell_type": "markdown",
      "source": [
        "## **Double-click here to paste a screenshot of your scatter plot**"
      ],
      "metadata": {
        "id": "HmXW9NafG22j"
      }
    },
    {
      "cell_type": "markdown",
      "source": [
        "**What can we conclude about the relationship between sleep and number of steps based on the scatter plot?**"
      ],
      "metadata": {
        "id": "bAG_2rLZA9Xh"
      }
    },
    {
      "cell_type": "markdown",
      "source": [
        "## **Double-click here to type your response**"
      ],
      "metadata": {
        "id": "fYQQ8YjOPheg"
      }
    }
  ]
}